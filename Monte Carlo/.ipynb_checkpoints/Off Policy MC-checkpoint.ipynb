{
 "cells": [
  {
   "cell_type": "code",
   "execution_count": 25,
   "metadata": {
    "collapsed": true
   },
   "outputs": [],
   "source": [
    "import numpy as np\n",
    "import gym\n",
    "import math"
   ]
  },
  {
   "cell_type": "code",
   "execution_count": 26,
   "metadata": {
    "collapsed": true
   },
   "outputs": [],
   "source": [
    "env = gym.make('FrozenLake-v0')"
   ]
  },
  {
   "cell_type": "code",
   "execution_count": 27,
   "metadata": {
    "collapsed": true
   },
   "outputs": [],
   "source": [
    "nS = env.env.nS\n",
    "nA = env.env.nA"
   ]
  },
  {
   "cell_type": "code",
   "execution_count": 34,
   "metadata": {
    "collapsed": true
   },
   "outputs": [],
   "source": [
    "num_episodes = 50000\n",
    "gamma = 0.9\n",
    "\n",
    "Q = np.zeros((nS,nA))\n",
    "C = np.zeros((nS,nA))\n",
    "b = np.ones((nS,nA))/nA\n",
    "pi = np.zeros((nS,nA))\n",
    "pi[:,0] = 1.0 #Equivalent to taking argmax over Q"
   ]
  },
  {
   "cell_type": "code",
   "execution_count": 39,
   "metadata": {},
   "outputs": [
    {
     "name": "stdout",
     "output_type": "stream",
     "text": [
      "Epoch : 0\n",
      "Epoch : 1000\n",
      "Epoch : 2000\n",
      "Epoch : 3000\n",
      "Epoch : 4000\n",
      "Epoch : 5000\n",
      "Epoch : 6000\n",
      "Epoch : 7000\n",
      "Epoch : 8000\n",
      "Epoch : 9000\n"
     ]
    }
   ],
   "source": [
    "for ep in range(num_episodes):\n",
    "    if ep%1000 == 0:\n",
    "        print(\"Epoch : \" + str(ep))\n",
    "    \n",
    "    done = False\n",
    "    state = env.reset()\n",
    "    episode_buffer = []\n",
    "    \n",
    "    while not done:\n",
    "        probs = b[state,:]\n",
    "        action = np.random.choice(np.arange(len(probs)),p=probs)\n",
    "        next_state,reward,done,_ = env.step(action)\n",
    "        episode_buffer.append((state,action,reward))\n",
    "        if done:\n",
    "            break\n",
    "        state = next_state\n",
    "    \n",
    "    G = 0.0\n",
    "    W = 1.0\n",
    "    \n",
    "    for t in range(len(episode_buffer))[::-1]:\n",
    "        state, action, reward = episode_buffer[t]\n",
    "        \n",
    "        G = gamma*G + reward\n",
    "        C[state][action] += W\n",
    "        Q[state][action] = Q[state][action] + (W/C[state][action])*(G - Q[state][action])\n",
    "        pi[state,:] = 0.0\n",
    "        best_action = np.argmax(Q[state,:])\n",
    "        pi[state,best_action] = 1.0\n",
    "        \n",
    "        if action != best_action:\n",
    "            break\n",
    "        \n",
    "        W=W*1.0/b[state][action]"
   ]
  },
  {
   "cell_type": "code",
   "execution_count": 40,
   "metadata": {},
   "outputs": [
    {
     "name": "stdout",
     "output_type": "stream",
     "text": [
      "[[0.41064191 0.         0.3848944  0.        ]\n",
      " [0.         0.         0.         0.        ]\n",
      " [0.41751138 0.         0.42120401 0.        ]\n",
      " [0.         0.         0.         0.        ]\n",
      " [0.         0.18625035 0.40244202 0.122006  ]\n",
      " [0.         0.         0.         0.        ]\n",
      " [0.04620321 0.04505214 0.22305657 0.        ]\n",
      " [0.         0.         0.         0.        ]\n",
      " [0.         0.23101515 0.         0.48923894]\n",
      " [0.0499422  0.59285106 0.08756757 0.01354232]\n",
      " [0.34971429 0.19899708 0.22579882 0.        ]\n",
      " [0.         0.         0.         0.        ]\n",
      " [0.         0.         0.         0.        ]\n",
      " [0.36513391 0.10780749 0.75456    0.07384615]\n",
      " [0.9        0.99064327 0.89248    0.88733728]\n",
      " [0.         0.         0.         0.        ]]\n"
     ]
    }
   ],
   "source": [
    "print(Q)"
   ]
  },
  {
   "cell_type": "code",
   "execution_count": null,
   "metadata": {
    "collapsed": true
   },
   "outputs": [],
   "source": []
  }
 ],
 "metadata": {
  "kernelspec": {
   "display_name": "Python (tensorflow)",
   "language": "python",
   "name": "tensorflow"
  },
  "language_info": {
   "codemirror_mode": {
    "name": "ipython",
    "version": 3
   },
   "file_extension": ".py",
   "mimetype": "text/x-python",
   "name": "python",
   "nbconvert_exporter": "python",
   "pygments_lexer": "ipython3",
   "version": "3.5.4"
  }
 },
 "nbformat": 4,
 "nbformat_minor": 2
}
